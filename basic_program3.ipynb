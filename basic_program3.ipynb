{
 "cells": [
  {
   "cell_type": "code",
   "execution_count": null,
   "metadata": {},
   "outputs": [],
   "source": [
    "#Q1.Write a Python Program to Check if a Number is Positive, Negative or Zero?"
   ]
  },
  {
   "cell_type": "code",
   "execution_count": 4,
   "metadata": {},
   "outputs": [
    {
     "name": "stdout",
     "output_type": "stream",
     "text": [
      "Enter the number 10\n",
      "It is a positive number.\n"
     ]
    }
   ],
   "source": [
    "a = int(input(\"Enter the number \"))\n",
    "if a>0:\n",
    "    print(\"It is a positive number.\")\n",
    "elif a==0:\n",
    "    print(\"It is zero.\")\n",
    "else:\n",
    "    print(\"It is a negative number.\")"
   ]
  },
  {
   "cell_type": "code",
   "execution_count": null,
   "metadata": {},
   "outputs": [],
   "source": [
    "#Q2.Write a Python Program to Check if a Number is Odd or Even?"
   ]
  },
  {
   "cell_type": "code",
   "execution_count": 6,
   "metadata": {},
   "outputs": [
    {
     "name": "stdout",
     "output_type": "stream",
     "text": [
      "Enter the number10\n",
      "10 is an even number.\n"
     ]
    }
   ],
   "source": [
    "a=int(input(\"Enter the number\"))\n",
    "if a%2==0:\n",
    "    print(a,\"is an even number.\")\n",
    "else:\n",
    "    print(a,\"is a odd number.\")"
   ]
  },
  {
   "cell_type": "code",
   "execution_count": null,
   "metadata": {},
   "outputs": [],
   "source": [
    "#Q3.Write a Python Program to Check Leap Year?"
   ]
  },
  {
   "cell_type": "code",
   "execution_count": 8,
   "metadata": {},
   "outputs": [
    {
     "name": "stdout",
     "output_type": "stream",
     "text": [
      "Enter the year 2004\n",
      "2004 is a leap year.\n"
     ]
    }
   ],
   "source": [
    "a=int(input(\"Enter the year \"))\n",
    "if a%4==0:\n",
    "    print(a,\"is a leap year.\")\n",
    "else:\n",
    "    print(a,\"is not a leap year.\")"
   ]
  },
  {
   "cell_type": "code",
   "execution_count": null,
   "metadata": {},
   "outputs": [],
   "source": [
    "#Q4.Write a Python Program to Check Prime Number?"
   ]
  },
  {
   "cell_type": "code",
   "execution_count": 10,
   "metadata": {},
   "outputs": [
    {
     "name": "stdout",
     "output_type": "stream",
     "text": [
      "Enter the number 23\n",
      "23  is a prime number.\n"
     ]
    }
   ],
   "source": [
    "num=int(input(\"Enter the number \"))\n",
    "if num>1:\n",
    "    for i in range(2,int(num/2)+1):\n",
    "        if num%i ==0:\n",
    "            print(num,\"is not a prime number.\")\n",
    "            break\n",
    "    else:\n",
    "        print(num,\" is a prime number.\")\n",
    "else:\n",
    "    print(num,\" is a prime number.\")\n"
   ]
  },
  {
   "cell_type": "code",
   "execution_count": null,
   "metadata": {},
   "outputs": [],
   "source": [
    "#Q5.Write a Python Program to Print all Prime Numbers in an Interval of 1-10000?"
   ]
  },
  {
   "cell_type": "code",
   "execution_count": 15,
   "metadata": {},
   "outputs": [
    {
     "name": "stdout",
     "output_type": "stream",
     "text": [
      "Enter a number1: 1\n",
      "Enter a number2: 100\n",
      "Prime numbers between 1 and 100 are:\n",
      "2\n",
      "3\n",
      "5\n",
      "7\n",
      "11\n",
      "13\n",
      "17\n",
      "19\n",
      "23\n",
      "29\n",
      "31\n",
      "37\n",
      "41\n",
      "43\n",
      "47\n",
      "53\n",
      "59\n",
      "61\n",
      "67\n",
      "71\n",
      "73\n",
      "79\n",
      "83\n",
      "89\n",
      "97\n"
     ]
    }
   ],
   "source": [
    "x = int(input(\"Enter a number1: \")) \n",
    "y = int(input(\"Enter a number2: \")) \n",
    "print(\"Prime numbers between\", x, \"and\", y, \"are:\")\n",
    "\n",
    "for num in range(x, y + 1):\n",
    "    if num > 1:\n",
    "        for i in range(2, int(num/2)+1):\n",
    "            if (num % i) == 0:\n",
    "                break\n",
    "        else:\n",
    "            print(num)"
   ]
  },
  {
   "cell_type": "code",
   "execution_count": null,
   "metadata": {},
   "outputs": [],
   "source": []
  },
  {
   "cell_type": "code",
   "execution_count": null,
   "metadata": {},
   "outputs": [],
   "source": []
  },
  {
   "cell_type": "code",
   "execution_count": null,
   "metadata": {},
   "outputs": [],
   "source": []
  }
 ],
 "metadata": {
  "kernelspec": {
   "display_name": "Python 3",
   "language": "python",
   "name": "python3"
  },
  "language_info": {
   "codemirror_mode": {
    "name": "ipython",
    "version": 3
   },
   "file_extension": ".py",
   "mimetype": "text/x-python",
   "name": "python",
   "nbconvert_exporter": "python",
   "pygments_lexer": "ipython3",
   "version": "3.8.5"
  }
 },
 "nbformat": 4,
 "nbformat_minor": 4
}
